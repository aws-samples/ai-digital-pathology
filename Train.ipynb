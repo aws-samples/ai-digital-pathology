{
 "cells": [
  {
   "cell_type": "markdown",
   "id": "52323109-e236-419d-bb2e-bdf8897d3e40",
   "metadata": {},
   "source": [
    "# Classification Training (MHIST)"
   ]
  },
  {
   "cell_type": "code",
   "execution_count": 60,
   "id": "98ed6e8b-f614-46a6-a25e-904322045f94",
   "metadata": {
    "tags": []
   },
   "outputs": [
    {
     "name": "stderr",
     "output_type": "stream",
     "text": [
      "INFO:sagemaker.image_uris:image_uri is not presented, retrieving image_uri based on instance_type, framework etc.\n",
      "INFO:sagemaker:Creating training-job with name: MHIST-Classification-2024-10-29-23-04-44-207\n"
     ]
    }
   ],
   "source": [
    "import sagemaker\n",
    "from sagemaker.pytorch import PyTorch\n",
    "from sagemaker.inputs import FileSystemInput\n",
    "\n",
    "# Initialize the SageMaker session\n",
    "sagemaker_session = sagemaker.Session()\n",
    "\n",
    "# Define the EFS file system input\n",
    "efs_data_input = FileSystemInput(\n",
    "    file_system_id='fs-0b7a195df6775de4c', # MODIFY\n",
    "    file_system_type='EFS',\n",
    "    directory_path='/MHIST',\n",
    "    file_system_access_mode='ro'\n",
    ")\n",
    "\n",
    "efs_model_input = FileSystemInput(\n",
    "    file_system_id='fs-0b7a195df6775de4c',\n",
    "    file_system_type='EFS',\n",
    "    directory_path='/models',\n",
    "    file_system_access_mode='ro'\n",
    ")\n",
    "\n",
    "# Configure the PyTorch estimator\n",
    "estimator = PyTorch(\n",
    "    source_dir='train',\n",
    "    entry_point='train_mhist.py',\n",
    "    role='arn:aws:iam::713881812217:role/EFS-SM-SageMakerRole-EyrRK8nNZo79',\n",
    "    instance_count=1,\n",
    "    instance_type='ml.p3.2xlarge',\n",
    "    subnets=['subnet-008fa8aee9db06e83'], # MODIFY\n",
    "    security_group_ids=['sg-09d4640079b19f275'], # MODIFY\n",
    "    framework_version='2.3',\n",
    "    py_version='py311',\n",
    "    hyperparameters={\n",
    "        'epochs': 20,\n",
    "        'batch-size': 32,\n",
    "        'learning-rate': 1e-3,\n",
    "        'weight-decay':1e-4,\n",
    "    },\n",
    "    metric_definitions=[\n",
    "        {'Name': 'TrainingLoss', 'Regex': 'Training Loss: ([0-9\\\\.]+)'},\n",
    "        {'Name': 'ValidationLoss', 'Regex': 'Validation Loss: ([0-9\\\\.]+)'},\n",
    "        {'Name': 'ValidationAccuracy', 'Regex': 'Validation Accuracy: ([0-9\\\\.]+)'}\n",
    "    ],\n",
    "    base_job_name='MHIST-Classification'\n",
    ")\n",
    "\n",
    "# Start the training job\n",
    "estimator.fit({'training': efs_data_input, 'models': efs_model_input}, wait=False)"
   ]
  },
  {
   "cell_type": "markdown",
   "id": "4ab25971-f718-4c43-beb7-a33b447d9e81",
   "metadata": {},
   "source": [
    "# Segmentation Training (Lizard)"
   ]
  },
  {
   "cell_type": "code",
   "execution_count": null,
   "id": "6698aeab-b11f-45f1-8fd9-1a74829da2a5",
   "metadata": {
    "tags": []
   },
   "outputs": [
    {
     "name": "stderr",
     "output_type": "stream",
     "text": [
      "INFO:sagemaker.image_uris:image_uri is not presented, retrieving image_uri based on instance_type, framework etc.\n",
      "INFO:sagemaker:Creating training-job with name: Lizard-Segmentation-2024-11-02-17-33-17-908\n"
     ]
    }
   ],
   "source": [
    "import sagemaker\n",
    "from sagemaker.pytorch import PyTorch\n",
    "from sagemaker.inputs import FileSystemInput\n",
    "\n",
    "# Initialize the SageMaker session\n",
    "sagemaker_session = sagemaker.Session()\n",
    "\n",
    "# Define the EFS file system input\n",
    "efs_data_input = FileSystemInput(\n",
    "    file_system_id='fs-0b7a195df6775de4c', # MODIFY\n",
    "    file_system_type='EFS',\n",
    "    directory_path='/Lizard',\n",
    "    file_system_access_mode='ro'\n",
    ")\n",
    "\n",
    "efs_model_input = FileSystemInput(\n",
    "    file_system_id='fs-0b7a195df6775de4c',\n",
    "    file_system_type='EFS',\n",
    "    directory_path='/models',\n",
    "    file_system_access_mode='ro'\n",
    ")\n",
    "\n",
    "\n",
    "# Configure the PyTorch estimator\n",
    "estimator = PyTorch(\n",
    "    source_dir='train',\n",
    "    entry_point='train_lizard.py',\n",
    "    role='arn:aws:iam::713881812217:role/EFS-SM-SageMakerRole-EyrRK8nNZo79',\n",
    "    instance_count=1,\n",
    "    instance_type='ml.g5.2xlarge',\n",
    "    subnets=['subnet-008fa8aee9db06e83'], # MODIFY\n",
    "    security_group_ids=['sg-09d4640079b19f275'], # MODIFY\n",
    "    framework_version='2.3',\n",
    "    py_version='py311',\n",
    "    hyperparameters={\n",
    "        'epochs': 200,\n",
    "        'batch-size': 128,\n",
    "        'learning-rate': 1e-5\n",
    "    },\n",
    "    metric_definitions=[\n",
    "        {'Name': 'TrainingLoss', 'Regex': 'Training Loss: ([0-9\\\\.]+)'},\n",
    "        {'Name': 'ValidationLoss', 'Regex': 'Validation Loss: ([0-9\\\\.]+)'},\n",
    "        {'Name': 'ValidationIOU', 'Regex': 'Validation Mean_IOU: ([0-9\\\\.]+)'},\n",
    "        {'Name': 'ValidationDice', 'Regex': 'Validation Mean_DICE: ([0-9\\\\.]+)'}\n",
    "    ],\n",
    "    base_job_name='Lizard-Segmentation'\n",
    ")\n",
    "\n",
    "# Start the training job\n",
    "estimator.fit({'training': efs_data_input, 'models': efs_model_input}, wait=False)"
   ]
  },
  {
   "cell_type": "markdown",
   "id": "8e87d6fd-2468-4ad0-b375-1b18c4dd2abb",
   "metadata": {
    "tags": []
   },
   "source": [
    "# Feature extraction WSI"
   ]
  },
  {
   "cell_type": "markdown",
   "id": "2b38eb5c-a52b-4c2b-9e48-5c571eafb596",
   "metadata": {},
   "source": [
    "First build and push the docker image by running the `build_and_push.sh` script: \n",
    "* `cd preprocessing`\n",
    "* `bash ./build_and_push.sh cucim-tiler`\n",
    "\n",
    "This will build and push the custom Docker image to an ECR registry called `cucim-tiler` and can than be used to run the following custom Estimator"
   ]
  },
  {
   "cell_type": "code",
   "execution_count": null,
   "id": "3e5d73d2-df70-4700-8925-cdc4ddbc4912",
   "metadata": {
    "tags": []
   },
   "outputs": [
    {
     "name": "stderr",
     "output_type": "stream",
     "text": [
      "INFO:sagemaker:Creating training-job with name: Tile-Feature-Extraction-2024-11-18-22-43-40-962\n"
     ]
    }
   ],
   "source": [
    "import sagemaker\n",
    "from sagemaker.estimator import Estimator\n",
    "from sagemaker.inputs import FileSystemInput\n",
    "\n",
    "# Initialize the SageMaker session\n",
    "sagemaker_session = sagemaker.Session()\n",
    "\n",
    "# Define the EFS file system input\n",
    "efs_data_input = FileSystemInput(\n",
    "    file_system_id='fs-0b7a195df6775de4c', # MODIFY\n",
    "    file_system_type='EFS',\n",
    "    directory_path='/TCGA-COAD',\n",
    "    file_system_access_mode='ro'\n",
    ")\n",
    "\n",
    "efs_data_output = FileSystemInput(\n",
    "    file_system_id='fs-0b7a195df6775de4c', # MODIFY\n",
    "    file_system_type='EFS',\n",
    "    directory_path='/TCGA-COAD-features',\n",
    "    file_system_access_mode='rw'\n",
    ")\n",
    "\n",
    "estimator = Estimator(\n",
    "    role='arn:aws:iam::713881812217:role/EFS-SM-SageMakerRole-EyrRK8nNZo79',\n",
    "    instance_count=1,\n",
    "    image_uri=\"713881812217.dkr.ecr.us-west-2.amazonaws.com/cucim-tiler:latest\",\n",
    "    instance_type='ml.g5.2xlarge',\n",
    "    subnets=['subnet-008fa8aee9db06e83'], # MODIFY\n",
    "    security_group_ids=['sg-09d4640079b19f275'], # MODIFY\n",
    "    base_job_name='Tile-Feature-Extraction',\n",
    "    metric_definitions=[\n",
    "        {'Name': 'Slide #', 'Regex': 'Processing slide #([0-9\\\\.]+)'},\n",
    "    ],\n",
    ")\n",
    "\n",
    "# Start the training job\n",
    "estimator.fit({'dataset': efs_data_input, 'output': efs_data_output}, wait=False)"
   ]
  },
  {
   "cell_type": "markdown",
   "id": "c1358462-8399-4b01-8d87-ee197621c474",
   "metadata": {},
   "source": [
    "# WSI Prediction (Slide Level)"
   ]
  },
  {
   "cell_type": "code",
   "execution_count": null,
   "id": "89bd9897-0227-4011-8935-91ea4130beb9",
   "metadata": {},
   "outputs": [
    {
     "name": "stderr",
     "output_type": "stream",
     "text": [
      "INFO:sagemaker.image_uris:image_uri is not presented, retrieving image_uri based on instance_type, framework etc.\n",
      "INFO:sagemaker:Creating training-job with name: WSI-Classification-2024-11-04-15-54-54-698\n"
     ]
    }
   ],
   "source": [
    "import sagemaker\n",
    "from sagemaker.pytorch import PyTorch\n",
    "from sagemaker.inputs import FileSystemInput\n",
    "\n",
    "# Initialize the SageMaker session\n",
    "sagemaker_session = sagemaker.Session()\n",
    "\n",
    "# Define the EFS file system input\n",
    "efs_data_input = FileSystemInput(\n",
    "    file_system_id='fs-0b7a195df6775de4c', # MODIFY\n",
    "    file_system_type='EFS',\n",
    "    directory_path='/TCGA-COAD-features',\n",
    "    file_system_access_mode='ro'\n",
    ")\n",
    "\n",
    "efs_model_input = FileSystemInput(\n",
    "    file_system_id='fs-0b7a195df6775de4c',\n",
    "    file_system_type='EFS',\n",
    "    directory_path='/models',\n",
    "    file_system_access_mode='ro'\n",
    ")\n",
    "\n",
    "# Configure the PyTorch estimator\n",
    "estimator = PyTorch(\n",
    "    source_dir='train',\n",
    "    entry_point='train_msi_tcga.py',\n",
    "    role='arn:aws:iam::713881812217:role/EFS-SM-SageMakerRole-EyrRK8nNZo79',\n",
    "    instance_count=1,\n",
    "    instance_type='ml.g5.2xlarge',\n",
    "    subnets=['subnet-008fa8aee9db06e83'], # MODIFY\n",
    "    security_group_ids=['sg-09d4640079b19f275'], # MODIFY\n",
    "    framework_version='2.2',\n",
    "    py_version='py310',\n",
    "    hyperparameters={\n",
    "        'epochs': 100,\n",
    "        'batch-size': 128,\n",
    "        'learning-rate': 1e-5,\n",
    "        'max-tiles': 6000\n",
    "    },\n",
    "    metric_definitions=[\n",
    "        {'Name': 'TrainingLoss', 'Regex': 'Training Loss: ([0-9\\\\.]+)'},\n",
    "        {'Name': 'ValidationLoss', 'Regex': 'Validation Loss: ([0-9\\\\.]+)'},\n",
    "        {'Name': 'ValidationAccuracy', 'Regex': 'Validation Accuracy: ([0-9\\\\.]+)'}\n",
    "    ],\n",
    "    base_job_name='WSI-Classification',\n",
    ")\n",
    "\n",
    "# Start the training job\n",
    "estimator.fit({'training': efs_data_input, 'models': efs_model_input}, wait=False)"
   ]
  },
  {
   "cell_type": "code",
   "execution_count": null,
   "id": "de6f9a53-4c34-422e-8b09-7a3b4c16ae78",
   "metadata": {},
   "outputs": [],
   "source": []
  }
 ],
 "metadata": {
  "kernelspec": {
   "display_name": "conda_python3",
   "language": "python",
   "name": "conda_python3"
  },
  "language_info": {
   "codemirror_mode": {
    "name": "ipython",
    "version": 3
   },
   "file_extension": ".py",
   "mimetype": "text/x-python",
   "name": "python",
   "nbconvert_exporter": "python",
   "pygments_lexer": "ipython3",
   "version": "3.10.15"
  }
 },
 "nbformat": 4,
 "nbformat_minor": 5
}
