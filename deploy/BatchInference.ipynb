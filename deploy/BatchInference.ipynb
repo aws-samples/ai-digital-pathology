{
 "cells": [
  {
   "cell_type": "code",
   "execution_count": null,
   "id": "71db6435-13e9-46e8-afc5-04b393e76b01",
   "metadata": {
    "tags": []
   },
   "outputs": [],
   "source": [
    "import sagemaker\n",
    "from sagemaker.transformer import Transformer\n",
    "from sagemaker.model import Model"
   ]
  },
  {
   "cell_type": "markdown",
   "id": "b11bd4f7",
   "metadata": {},
   "source": [
    "## Build and Deploy the Inference container\n",
    "\n",
    "Since this embedding extraction job relies on multiple custom libraries (openslide, opencv,...) we will use a custom SageMaker Model Container. \n",
    "\n",
    "`./build_and_push.sh wsi-embedding`"
   ]
  },
  {
   "cell_type": "code",
   "execution_count": null,
   "id": "e8a8e455-72e5-4569-94c3-3c2948728685",
   "metadata": {
    "tags": []
   },
   "outputs": [],
   "source": [
    "model = Model(\n",
    "    name=\"wsi-embeddings\",\n",
    "    image_uri=\"xxx.dkr.ecr.us-east-1.amazonaws.com/patch:latest\",\n",
    "    role=sagemaker.get_execution_role(),\n",
    ")\n",
    "\n",
    "model.create()"
   ]
  },
  {
   "cell_type": "code",
   "execution_count": null,
   "id": "749e0646-0580-4c12-bd3e-ed9f88e7bc39",
   "metadata": {},
   "outputs": [],
   "source": [
    "import boto3\n",
    "import json\n",
    "\n",
    "def create_manifest_file(bucket_name, prefix=\"\"):\n",
    "    \"\"\"Create a manifest file for .svs files in the S3 bucket\"\"\"\n",
    "    s3_client = boto3.client('s3')\n",
    "    \n",
    "    # List all objects in the bucket with the given prefix\n",
    "    paginator = s3_client.get_paginator('list_objects_v2')\n",
    "    manifest_data = []\n",
    "    \n",
    "    for page in paginator.paginate(Bucket=bucket_name, Prefix=prefix):\n",
    "        if 'Contents' in page:\n",
    "            for obj in page['Contents']:\n",
    "                if obj['Key'].endswith('.svs'):\n",
    "                    manifest_data.append({\n",
    "                        \"source\": f\"s3://{bucket_name}/{obj['Key']}\"\n",
    "                    })\n",
    "\n",
    "    # Write manifest file to S3\n",
    "    manifest_content = \"\\n\".join(json.dumps(item) for item in manifest_data)\n",
    "    manifest_key = \"manifest.jsonl\"\n",
    "    s3_client.put_object(\n",
    "        Bucket=bucket_name,\n",
    "        Key=manifest_key,\n",
    "        Body=manifest_content.encode('utf-8')\n",
    "    )\n",
    "    \n",
    "    return f\"s3://{bucket_name}/{manifest_key}\"\n",
    "\n",
    "# Create the manifest file\n",
    "manifest_path = create_manifest_file(\n",
    "    bucket_name=\"pathologybenchmark-s3bucket-u7pe00xtbplu\"\n",
    ")\n"
   ]
  },
  {
   "cell_type": "code",
   "execution_count": null,
   "id": "9b499775-7881-4e6f-8aa6-23fd4f4f9318",
   "metadata": {
    "tags": []
   },
   "outputs": [],
   "source": [
    "# Create transformer\n",
    "transformer = Transformer(\n",
    "    model_name=\"wsi-embeddings\",\n",
    "    instance_count=1,\n",
    "    instance_type=\"ml.g4dn.xlarge\",\n",
    "    output_path=\"s3://xxxx/embeddings/\",\n",
    "    base_transform_job_name=\"wsi-embeddings\",\n",
    "    accept=\"application/x-embeddings\",\n",
    "    assemble_with=\"None\",\n",
    "    max_concurrent_transforms=1,\n",
    "    strategy=\"SingleRecord\",\n",
    "    env = {'SAGEMAKER_MODEL_SERVER_TIMEOUT' : '3600',\n",
    "           'SAGEMAKER_SERVING_TIME':'3600'}\n",
    ")\n",
    "\n",
    "# Run the transform job directly with the manifest path\n",
    "transformer.transform(\n",
    "    data=manifest_path,\n",
    "    content_type=\"application/jsonlines\",\n",
    "    split_type=\"Line\",\n",
    "    model_client_config={'InvocationsTimeoutInSeconds':3600}\n",
    ")\n"
   ]
  },
  {
   "cell_type": "code",
   "execution_count": null,
   "id": "ad99505c-66e0-4d81-bd5c-f818e24b21a9",
   "metadata": {},
   "outputs": [],
   "source": []
  }
 ],
 "metadata": {
  "kernelspec": {
   "display_name": "conda_pytorch_p310",
   "language": "python",
   "name": "conda_pytorch_p310"
  },
  "language_info": {
   "codemirror_mode": {
    "name": "ipython",
    "version": 3
   },
   "file_extension": ".py",
   "mimetype": "text/x-python",
   "name": "python",
   "nbconvert_exporter": "python",
   "pygments_lexer": "ipython3",
   "version": "3.10.14"
  }
 },
 "nbformat": 4,
 "nbformat_minor": 5
}
